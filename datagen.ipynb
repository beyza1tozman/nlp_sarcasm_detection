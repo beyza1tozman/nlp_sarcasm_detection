{
 "cells": [
  {
   "cell_type": "code",
   "execution_count": 1,
   "metadata": {},
   "outputs": [],
   "source": [
    "from ollama import chat, ChatResponse, generate\n",
    "import pandas as pd\n",
    "from tqdm import tqdm"
   ]
  },
  {
   "cell_type": "code",
   "execution_count": 2,
   "metadata": {},
   "outputs": [
    {
     "name": "stdout",
     "output_type": "stream",
     "text": [
      "(55328, 3)\n",
      "(28617, 3)\n"
     ]
    }
   ],
   "source": [
    "data_file1 = 'datasets/Sarcasm_Headlines_Dataset.json'\n",
    "data_file2 = 'datasets/Sarcasm_Headlines_Dataset_v2.json'\n",
    "\n",
    "df1 = pd.read_json(data_file1, lines=True)\n",
    "df2 = pd.read_json(data_file2, lines=True)\n",
    "\n",
    "# good grief so many duplicates xd\n",
    "df = pd.concat([df1, df2])\n",
    "print(df.shape)\n",
    "df.drop_duplicates(inplace=True)\n",
    "print(df.shape)"
   ]
  },
  {
   "cell_type": "code",
   "execution_count": 4,
   "metadata": {},
   "outputs": [
    {
     "name": "stdout",
     "output_type": "stream",
     "text": [
      "Sarcastic Headlines:\n",
      "0    thirtysomething scientists unveil doomsday clo...\n",
      "3    inclement weather prevents liar from getting t...\n",
      "4    mother comes pretty close to using word 'strea...\n",
      "7    richard branson's global-warming donation near...\n",
      "8    shadow government getting too large to meet in...\n",
      "Name: headline, dtype: object\n",
      "\n",
      "Non-Sarcastic Headlines:\n",
      "1    dem rep. totally nails why congress is falling...\n",
      "2    eat your veggies: 9 deliciously different recipes\n",
      "5                                 my white inheritance\n",
      "6           5 ways to file your taxes with less stress\n",
      "9                   lots of parents know this scenario\n",
      "Name: headline, dtype: object\n"
     ]
    }
   ],
   "source": [
    "sarcastic_df = df[df['is_sarcastic'] == 1]['headline']\n",
    "non_sarcastic_df = df[df['is_sarcastic'] == 0]['headline']\n",
    "\n",
    "print(\"Sarcastic Headlines:\")\n",
    "print(sarcastic_df.head())\n",
    "\n",
    "print(\"\\nNon-Sarcastic Headlines:\")\n",
    "print(non_sarcastic_df.head())"
   ]
  },
  {
   "cell_type": "code",
   "execution_count": 5,
   "metadata": {},
   "outputs": [
    {
     "name": "stderr",
     "output_type": "stream",
     "text": [
      "100%|██████████| 14985/14985 [1:28:33<00:00,  2.82it/s]\n"
     ]
    }
   ],
   "source": [
    "non_sarcastic_to_sarcastic_prompt = \"<START OF PROMPT> Convert the given non-sarcastic news headline to a sarcastic headline. Return only the converted headline. <END OF PROMPT> <START OF HEADLINE> \\\"{}\\\" <END OF HEADLINE>\"\n",
    "sarcastic_lines = []\n",
    "# llama3.1 must be installed from ollama: https://ollama.com/library/llama3.1 \n",
    "for line in tqdm(non_sarcastic_df):\n",
    "    response = generate(model=\"llama3.1:latest\", prompt=non_sarcastic_to_sarcastic_prompt.format(line))\n",
    "    sarcastic_lines.append(response.response)"
   ]
  },
  {
   "cell_type": "code",
   "execution_count": 7,
   "metadata": {},
   "outputs": [
    {
     "data": {
      "text/html": [
       "<div>\n",
       "<style scoped>\n",
       "    .dataframe tbody tr th:only-of-type {\n",
       "        vertical-align: middle;\n",
       "    }\n",
       "\n",
       "    .dataframe tbody tr th {\n",
       "        vertical-align: top;\n",
       "    }\n",
       "\n",
       "    .dataframe thead th {\n",
       "        text-align: right;\n",
       "    }\n",
       "</style>\n",
       "<table border=\"1\" class=\"dataframe\">\n",
       "  <thead>\n",
       "    <tr style=\"text-align: right;\">\n",
       "      <th></th>\n",
       "      <th>non_sarcastic</th>\n",
       "      <th>sarcastic</th>\n",
       "    </tr>\n",
       "  </thead>\n",
       "  <tbody>\n",
       "    <tr>\n",
       "      <th>1</th>\n",
       "      <td>dem rep. totally nails why congress is falling...</td>\n",
       "      <td>\"Woohoo, Another Congressman Finally Gets It R...</td>\n",
       "    </tr>\n",
       "    <tr>\n",
       "      <th>2</th>\n",
       "      <td>eat your veggies: 9 deliciously different recipes</td>\n",
       "      <td>\"Because You Clearly Hate Yourself, Here Are 9...</td>\n",
       "    </tr>\n",
       "    <tr>\n",
       "      <th>5</th>\n",
       "      <td>my white inheritance</td>\n",
       "      <td>\"Oh Joy, Another Person Privileging Their Whit...</td>\n",
       "    </tr>\n",
       "    <tr>\n",
       "      <th>6</th>\n",
       "      <td>5 ways to file your taxes with less stress</td>\n",
       "      <td>\"Just What You Needed: 5 More Ways to Waste Yo...</td>\n",
       "    </tr>\n",
       "    <tr>\n",
       "      <th>9</th>\n",
       "      <td>lots of parents know this scenario</td>\n",
       "      <td>\"Oh Joy, Another Parent Who's Had Their Kid As...</td>\n",
       "    </tr>\n",
       "  </tbody>\n",
       "</table>\n",
       "</div>"
      ],
      "text/plain": [
       "                                       non_sarcastic  \\\n",
       "1  dem rep. totally nails why congress is falling...   \n",
       "2  eat your veggies: 9 deliciously different recipes   \n",
       "5                               my white inheritance   \n",
       "6         5 ways to file your taxes with less stress   \n",
       "9                 lots of parents know this scenario   \n",
       "\n",
       "                                           sarcastic  \n",
       "1  \"Woohoo, Another Congressman Finally Gets It R...  \n",
       "2  \"Because You Clearly Hate Yourself, Here Are 9...  \n",
       "5  \"Oh Joy, Another Person Privileging Their Whit...  \n",
       "6  \"Just What You Needed: 5 More Ways to Waste Yo...  \n",
       "9  \"Oh Joy, Another Parent Who's Had Their Kid As...  "
      ]
     },
     "execution_count": 7,
     "metadata": {},
     "output_type": "execute_result"
    }
   ],
   "source": [
    "pairs = pd.DataFrame({'non_sarcastic': non_sarcastic_df, 'sarcastic': sarcastic_lines})\n",
    "pairs.head()"
   ]
  },
  {
   "cell_type": "code",
   "execution_count": 9,
   "metadata": {},
   "outputs": [],
   "source": [
    "# ideally clean it before saving but we do that in the main file\n",
    "pairs.to_csv('datasets/sarcastic_headline_pairs.csv', index=False) "
   ]
  },
  {
   "cell_type": "code",
   "execution_count": 37,
   "metadata": {},
   "outputs": [
    {
     "data": {
      "text/html": [
       "<div>\n",
       "<style scoped>\n",
       "    .dataframe tbody tr th:only-of-type {\n",
       "        vertical-align: middle;\n",
       "    }\n",
       "\n",
       "    .dataframe tbody tr th {\n",
       "        vertical-align: top;\n",
       "    }\n",
       "\n",
       "    .dataframe thead th {\n",
       "        text-align: right;\n",
       "    }\n",
       "</style>\n",
       "<table border=\"1\" class=\"dataframe\">\n",
       "  <thead>\n",
       "    <tr style=\"text-align: right;\">\n",
       "      <th></th>\n",
       "      <th>non_sarcastic</th>\n",
       "      <th>sarcastic</th>\n",
       "    </tr>\n",
       "  </thead>\n",
       "  <tbody>\n",
       "    <tr>\n",
       "      <th>0</th>\n",
       "      <td>former versace store clerk sues over secret 'b...</td>\n",
       "      <td>\"Just what we all wanted: another lawsuit abou...</td>\n",
       "    </tr>\n",
       "    <tr>\n",
       "      <th>1</th>\n",
       "      <td>the 'roseanne' revival catches up to our thorn...</td>\n",
       "      <td>\"Because What We Really Needed Was Another Rem...</td>\n",
       "    </tr>\n",
       "    <tr>\n",
       "      <th>4</th>\n",
       "      <td>j.k. rowling wishes snape happy birthday in th...</td>\n",
       "      <td>\"BREAKING: J.K. Rowling still obsessed with Sn...</td>\n",
       "    </tr>\n",
       "    <tr>\n",
       "      <th>5</th>\n",
       "      <td>advancing the world's women</td>\n",
       "      <td>\"Wonderful, Another Thing for Men to Feel Guil...</td>\n",
       "    </tr>\n",
       "    <tr>\n",
       "      <th>6</th>\n",
       "      <td>the fascinating case for eating lab-grown meat</td>\n",
       "      <td>\"Because nothing says 'fascinating' like synth...</td>\n",
       "    </tr>\n",
       "    <tr>\n",
       "      <th>...</th>\n",
       "      <td>...</td>\n",
       "      <td>...</td>\n",
       "    </tr>\n",
       "    <tr>\n",
       "      <th>26704</th>\n",
       "      <td>american politics in moral free-fall</td>\n",
       "      <td>\"Just Another Day in Politics: Business as Usu...</td>\n",
       "    </tr>\n",
       "    <tr>\n",
       "      <th>26705</th>\n",
       "      <td>america's best 20 hikes</td>\n",
       "      <td>\"Oh Joy, America's Best 20 Hikes Are So Origin...</td>\n",
       "    </tr>\n",
       "    <tr>\n",
       "      <th>26706</th>\n",
       "      <td>reparations and obama</td>\n",
       "      <td>\"Because Nothing Says 'Unity' Like Asking Some...</td>\n",
       "    </tr>\n",
       "    <tr>\n",
       "      <th>26707</th>\n",
       "      <td>israeli ban targeting boycott supporters raise...</td>\n",
       "      <td>\"Israel Just Can't Get Enough of Free Speech, ...</td>\n",
       "    </tr>\n",
       "    <tr>\n",
       "      <th>26708</th>\n",
       "      <td>gourmet gifts for the foodie 2014</td>\n",
       "      <td>\"Cause Who Needs Original Gifts When You Can J...</td>\n",
       "    </tr>\n",
       "  </tbody>\n",
       "</table>\n",
       "<p>14985 rows × 2 columns</p>\n",
       "</div>"
      ],
      "text/plain": [
       "                                           non_sarcastic  \\\n",
       "0      former versace store clerk sues over secret 'b...   \n",
       "1      the 'roseanne' revival catches up to our thorn...   \n",
       "4      j.k. rowling wishes snape happy birthday in th...   \n",
       "5                            advancing the world's women   \n",
       "6         the fascinating case for eating lab-grown meat   \n",
       "...                                                  ...   \n",
       "26704               american politics in moral free-fall   \n",
       "26705                            america's best 20 hikes   \n",
       "26706                              reparations and obama   \n",
       "26707  israeli ban targeting boycott supporters raise...   \n",
       "26708                  gourmet gifts for the foodie 2014   \n",
       "\n",
       "                                               sarcastic  \n",
       "0      \"Just what we all wanted: another lawsuit abou...  \n",
       "1      \"Because What We Really Needed Was Another Rem...  \n",
       "4      \"BREAKING: J.K. Rowling still obsessed with Sn...  \n",
       "5      \"Wonderful, Another Thing for Men to Feel Guil...  \n",
       "6      \"Because nothing says 'fascinating' like synth...  \n",
       "...                                                  ...  \n",
       "26704  \"Just Another Day in Politics: Business as Usu...  \n",
       "26705  \"Oh Joy, America's Best 20 Hikes Are So Origin...  \n",
       "26706  \"Because Nothing Says 'Unity' Like Asking Some...  \n",
       "26707  \"Israel Just Can't Get Enough of Free Speech, ...  \n",
       "26708  \"Cause Who Needs Original Gifts When You Can J...  \n",
       "\n",
       "[14985 rows x 2 columns]"
      ]
     },
     "execution_count": 37,
     "metadata": {},
     "output_type": "execute_result"
    }
   ],
   "source": [
    "pairs"
   ]
  }
 ],
 "metadata": {
  "kernelspec": {
   "display_name": "llama",
   "language": "python",
   "name": "python3"
  },
  "language_info": {
   "codemirror_mode": {
    "name": "ipython",
    "version": 3
   },
   "file_extension": ".py",
   "mimetype": "text/x-python",
   "name": "python",
   "nbconvert_exporter": "python",
   "pygments_lexer": "ipython3",
   "version": "3.12.4"
  }
 },
 "nbformat": 4,
 "nbformat_minor": 2
}
