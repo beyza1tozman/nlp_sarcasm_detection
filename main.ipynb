{
	"cells": [
		{
			"cell_type": "code",
			"execution_count": 76,
			"metadata": {},
			"outputs": [],
			"source": [
				"import pandas as pd\n",
				"import matplotlib.pyplot as plt\n",
				"import tensorflow as tf "
			]
		},
		{
			"cell_type": "code",
			"execution_count": 77,
			"metadata": {},
			"outputs": [],
			"source": [
				"headlines1 = pd.read_json('./datasets/Sarcasm_Headlines_Dataset.json',lines=True)\n",
				"headlines2 = pd.read_json('./datasets/Sarcasm_Headlines_Dataset_v2.json', lines=True)\n",
				"headlines = pd.concat([headlines1,headlines2])"
			]
		},
		{
			"cell_type": "code",
			"execution_count": 78,
			"metadata": {},
			"outputs": [
				{
					"data": {
						"text/html": [
							"<div>\n",
							"<style scoped>\n",
							"    .dataframe tbody tr th:only-of-type {\n",
							"        vertical-align: middle;\n",
							"    }\n",
							"\n",
							"    .dataframe tbody tr th {\n",
							"        vertical-align: top;\n",
							"    }\n",
							"\n",
							"    .dataframe thead th {\n",
							"        text-align: right;\n",
							"    }\n",
							"</style>\n",
							"<table border=\"1\" class=\"dataframe\">\n",
							"  <thead>\n",
							"    <tr style=\"text-align: right;\">\n",
							"      <th></th>\n",
							"      <th>article_link</th>\n",
							"      <th>headline</th>\n",
							"      <th>is_sarcastic</th>\n",
							"    </tr>\n",
							"  </thead>\n",
							"  <tbody>\n",
							"    <tr>\n",
							"      <th>0</th>\n",
							"      <td>https://www.huffingtonpost.com/entry/versace-b...</td>\n",
							"      <td>former versace store clerk sues over secret 'b...</td>\n",
							"      <td>0</td>\n",
							"    </tr>\n",
							"    <tr>\n",
							"      <th>1</th>\n",
							"      <td>https://www.huffingtonpost.com/entry/roseanne-...</td>\n",
							"      <td>the 'roseanne' revival catches up to our thorn...</td>\n",
							"      <td>0</td>\n",
							"    </tr>\n",
							"    <tr>\n",
							"      <th>2</th>\n",
							"      <td>https://local.theonion.com/mom-starting-to-fea...</td>\n",
							"      <td>mom starting to fear son's web series closest ...</td>\n",
							"      <td>1</td>\n",
							"    </tr>\n",
							"    <tr>\n",
							"      <th>3</th>\n",
							"      <td>https://politics.theonion.com/boehner-just-wan...</td>\n",
							"      <td>boehner just wants wife to listen, not come up...</td>\n",
							"      <td>1</td>\n",
							"    </tr>\n",
							"    <tr>\n",
							"      <th>4</th>\n",
							"      <td>https://www.huffingtonpost.com/entry/jk-rowlin...</td>\n",
							"      <td>j.k. rowling wishes snape happy birthday in th...</td>\n",
							"      <td>0</td>\n",
							"    </tr>\n",
							"  </tbody>\n",
							"</table>\n",
							"</div>"
						],
						"text/plain": [
							"                                        article_link  \\\n",
							"0  https://www.huffingtonpost.com/entry/versace-b...   \n",
							"1  https://www.huffingtonpost.com/entry/roseanne-...   \n",
							"2  https://local.theonion.com/mom-starting-to-fea...   \n",
							"3  https://politics.theonion.com/boehner-just-wan...   \n",
							"4  https://www.huffingtonpost.com/entry/jk-rowlin...   \n",
							"\n",
							"                                            headline  is_sarcastic  \n",
							"0  former versace store clerk sues over secret 'b...             0  \n",
							"1  the 'roseanne' revival catches up to our thorn...             0  \n",
							"2  mom starting to fear son's web series closest ...             1  \n",
							"3  boehner just wants wife to listen, not come up...             1  \n",
							"4  j.k. rowling wishes snape happy birthday in th...             0  "
						]
					},
					"execution_count": 78,
					"metadata": {},
					"output_type": "execute_result"
				}
			],
			"source": [
				"headlines.head()"
			]
		},
		{
			"cell_type": "code",
			"execution_count": 79,
			"metadata": {},
			"outputs": [
				{
					"data": {
						"text/html": [
							"<div>\n",
							"<style scoped>\n",
							"    .dataframe tbody tr th:only-of-type {\n",
							"        vertical-align: middle;\n",
							"    }\n",
							"\n",
							"    .dataframe tbody tr th {\n",
							"        vertical-align: top;\n",
							"    }\n",
							"\n",
							"    .dataframe thead th {\n",
							"        text-align: right;\n",
							"    }\n",
							"</style>\n",
							"<table border=\"1\" class=\"dataframe\">\n",
							"  <thead>\n",
							"    <tr style=\"text-align: right;\">\n",
							"      <th></th>\n",
							"      <th>article_link</th>\n",
							"      <th>headline</th>\n",
							"      <th>is_sarcastic</th>\n",
							"    </tr>\n",
							"  </thead>\n",
							"  <tbody>\n",
							"    <tr>\n",
							"      <th>0</th>\n",
							"      <td>https://www.huffingtonpost.com/entry/versace-b...</td>\n",
							"      <td>former versace store clerk sues over secret 'b...</td>\n",
							"      <td>0</td>\n",
							"    </tr>\n",
							"    <tr>\n",
							"      <th>1</th>\n",
							"      <td>https://www.huffingtonpost.com/entry/roseanne-...</td>\n",
							"      <td>the 'roseanne' revival catches up to our thorn...</td>\n",
							"      <td>0</td>\n",
							"    </tr>\n",
							"    <tr>\n",
							"      <th>2</th>\n",
							"      <td>https://local.theonion.com/mom-starting-to-fea...</td>\n",
							"      <td>mom starting to fear son's web series closest ...</td>\n",
							"      <td>1</td>\n",
							"    </tr>\n",
							"    <tr>\n",
							"      <th>3</th>\n",
							"      <td>https://politics.theonion.com/boehner-just-wan...</td>\n",
							"      <td>boehner just wants wife to listen, not come up...</td>\n",
							"      <td>1</td>\n",
							"    </tr>\n",
							"    <tr>\n",
							"      <th>4</th>\n",
							"      <td>https://www.huffingtonpost.com/entry/jk-rowlin...</td>\n",
							"      <td>j.k. rowling wishes snape happy birthday in th...</td>\n",
							"      <td>0</td>\n",
							"    </tr>\n",
							"    <tr>\n",
							"      <th>...</th>\n",
							"      <td>...</td>\n",
							"      <td>...</td>\n",
							"      <td>...</td>\n",
							"    </tr>\n",
							"    <tr>\n",
							"      <th>28614</th>\n",
							"      <td>https://www.theonion.com/jews-to-celebrate-ros...</td>\n",
							"      <td>jews to celebrate rosh hashasha or something</td>\n",
							"      <td>1</td>\n",
							"    </tr>\n",
							"    <tr>\n",
							"      <th>28615</th>\n",
							"      <td>https://local.theonion.com/internal-affairs-in...</td>\n",
							"      <td>internal affairs investigator disappointed con...</td>\n",
							"      <td>1</td>\n",
							"    </tr>\n",
							"    <tr>\n",
							"      <th>28616</th>\n",
							"      <td>https://www.huffingtonpost.com/entry/andrew-ah...</td>\n",
							"      <td>the most beautiful acceptance speech this week...</td>\n",
							"      <td>0</td>\n",
							"    </tr>\n",
							"    <tr>\n",
							"      <th>28617</th>\n",
							"      <td>https://www.theonion.com/mars-probe-destroyed-...</td>\n",
							"      <td>mars probe destroyed by orbiting spielberg-gat...</td>\n",
							"      <td>1</td>\n",
							"    </tr>\n",
							"    <tr>\n",
							"      <th>28618</th>\n",
							"      <td>https://www.theonion.com/dad-clarifies-this-no...</td>\n",
							"      <td>dad clarifies this not a food stop</td>\n",
							"      <td>1</td>\n",
							"    </tr>\n",
							"  </tbody>\n",
							"</table>\n",
							"<p>55328 rows × 3 columns</p>\n",
							"</div>"
						],
						"text/plain": [
							"                                            article_link  \\\n",
							"0      https://www.huffingtonpost.com/entry/versace-b...   \n",
							"1      https://www.huffingtonpost.com/entry/roseanne-...   \n",
							"2      https://local.theonion.com/mom-starting-to-fea...   \n",
							"3      https://politics.theonion.com/boehner-just-wan...   \n",
							"4      https://www.huffingtonpost.com/entry/jk-rowlin...   \n",
							"...                                                  ...   \n",
							"28614  https://www.theonion.com/jews-to-celebrate-ros...   \n",
							"28615  https://local.theonion.com/internal-affairs-in...   \n",
							"28616  https://www.huffingtonpost.com/entry/andrew-ah...   \n",
							"28617  https://www.theonion.com/mars-probe-destroyed-...   \n",
							"28618  https://www.theonion.com/dad-clarifies-this-no...   \n",
							"\n",
							"                                                headline  is_sarcastic  \n",
							"0      former versace store clerk sues over secret 'b...             0  \n",
							"1      the 'roseanne' revival catches up to our thorn...             0  \n",
							"2      mom starting to fear son's web series closest ...             1  \n",
							"3      boehner just wants wife to listen, not come up...             1  \n",
							"4      j.k. rowling wishes snape happy birthday in th...             0  \n",
							"...                                                  ...           ...  \n",
							"28614       jews to celebrate rosh hashasha or something             1  \n",
							"28615  internal affairs investigator disappointed con...             1  \n",
							"28616  the most beautiful acceptance speech this week...             0  \n",
							"28617  mars probe destroyed by orbiting spielberg-gat...             1  \n",
							"28618                 dad clarifies this not a food stop             1  \n",
							"\n",
							"[55328 rows x 3 columns]"
						]
					},
					"execution_count": 79,
					"metadata": {},
					"output_type": "execute_result"
				}
			],
			"source": [
				"headlines"
			]
		},
		{
			"cell_type": "code",
			"execution_count": 80,
			"metadata": {},
			"outputs": [],
			"source": [
				"headlines.drop(\"article_link\", axis=1, inplace=True)"
			]
		},
		{
			"cell_type": "code",
			"execution_count": 81,
			"metadata": {},
			"outputs": [],
			"source": [
				"headlines.rename(columns={\"headline\":\"text\"}, inplace=True)"
			]
		},
		{
			"cell_type": "code",
			"execution_count": 82,
			"metadata": {},
			"outputs": [
				{
					"data": {
						"text/html": [
							"<div>\n",
							"<style scoped>\n",
							"    .dataframe tbody tr th:only-of-type {\n",
							"        vertical-align: middle;\n",
							"    }\n",
							"\n",
							"    .dataframe tbody tr th {\n",
							"        vertical-align: top;\n",
							"    }\n",
							"\n",
							"    .dataframe thead th {\n",
							"        text-align: right;\n",
							"    }\n",
							"</style>\n",
							"<table border=\"1\" class=\"dataframe\">\n",
							"  <thead>\n",
							"    <tr style=\"text-align: right;\">\n",
							"      <th></th>\n",
							"      <th>text</th>\n",
							"      <th>is_sarcastic</th>\n",
							"    </tr>\n",
							"  </thead>\n",
							"  <tbody>\n",
							"    <tr>\n",
							"      <th>0</th>\n",
							"      <td>former versace store clerk sues over secret 'b...</td>\n",
							"      <td>0</td>\n",
							"    </tr>\n",
							"    <tr>\n",
							"      <th>1</th>\n",
							"      <td>the 'roseanne' revival catches up to our thorn...</td>\n",
							"      <td>0</td>\n",
							"    </tr>\n",
							"    <tr>\n",
							"      <th>2</th>\n",
							"      <td>mom starting to fear son's web series closest ...</td>\n",
							"      <td>1</td>\n",
							"    </tr>\n",
							"    <tr>\n",
							"      <th>3</th>\n",
							"      <td>boehner just wants wife to listen, not come up...</td>\n",
							"      <td>1</td>\n",
							"    </tr>\n",
							"    <tr>\n",
							"      <th>4</th>\n",
							"      <td>j.k. rowling wishes snape happy birthday in th...</td>\n",
							"      <td>0</td>\n",
							"    </tr>\n",
							"  </tbody>\n",
							"</table>\n",
							"</div>"
						],
						"text/plain": [
							"                                                text  is_sarcastic\n",
							"0  former versace store clerk sues over secret 'b...             0\n",
							"1  the 'roseanne' revival catches up to our thorn...             0\n",
							"2  mom starting to fear son's web series closest ...             1\n",
							"3  boehner just wants wife to listen, not come up...             1\n",
							"4  j.k. rowling wishes snape happy birthday in th...             0"
						]
					},
					"execution_count": 82,
					"metadata": {},
					"output_type": "execute_result"
				}
			],
			"source": [
				"headlines.head()"
			]
		},
		{
			"cell_type": "code",
			"execution_count": 83,
			"metadata": {},
			"outputs": [],
			"source": [
				"tweets = pd.read_csv(\"hf://datasets/nikesh66/Sarcasm-dataset/sarcasm_tweets.csv\")"
			]
		},
		{
			"cell_type": "code",
			"execution_count": 84,
			"metadata": {},
			"outputs": [
				{
					"data": {
						"text/html": [
							"<div>\n",
							"<style scoped>\n",
							"    .dataframe tbody tr th:only-of-type {\n",
							"        vertical-align: middle;\n",
							"    }\n",
							"\n",
							"    .dataframe tbody tr th {\n",
							"        vertical-align: top;\n",
							"    }\n",
							"\n",
							"    .dataframe thead th {\n",
							"        text-align: right;\n",
							"    }\n",
							"</style>\n",
							"<table border=\"1\" class=\"dataframe\">\n",
							"  <thead>\n",
							"    <tr style=\"text-align: right;\">\n",
							"      <th></th>\n",
							"      <th>Tweet</th>\n",
							"      <th>Sarcasm (yes/no)</th>\n",
							"    </tr>\n",
							"  </thead>\n",
							"  <tbody>\n",
							"    <tr>\n",
							"      <th>count</th>\n",
							"      <td>5000</td>\n",
							"      <td>5000</td>\n",
							"    </tr>\n",
							"    <tr>\n",
							"      <th>unique</th>\n",
							"      <td>240</td>\n",
							"      <td>2</td>\n",
							"    </tr>\n",
							"    <tr>\n",
							"      <th>top</th>\n",
							"      <td>Can't wait for more of artists.</td>\n",
							"      <td>yes</td>\n",
							"    </tr>\n",
							"    <tr>\n",
							"      <th>freq</th>\n",
							"      <td>49</td>\n",
							"      <td>2521</td>\n",
							"    </tr>\n",
							"  </tbody>\n",
							"</table>\n",
							"</div>"
						],
						"text/plain": [
							"                                  Tweet Sarcasm (yes/no)\n",
							"count                              5000             5000\n",
							"unique                              240                2\n",
							"top     Can't wait for more of artists.              yes\n",
							"freq                                 49             2521"
						]
					},
					"execution_count": 84,
					"metadata": {},
					"output_type": "execute_result"
				}
			],
			"source": [
				"tweets.describe()"
			]
		},
		{
			"cell_type": "code",
			"execution_count": 85,
			"metadata": {},
			"outputs": [
				{
					"data": {
						"text/html": [
							"<div>\n",
							"<style scoped>\n",
							"    .dataframe tbody tr th:only-of-type {\n",
							"        vertical-align: middle;\n",
							"    }\n",
							"\n",
							"    .dataframe tbody tr th {\n",
							"        vertical-align: top;\n",
							"    }\n",
							"\n",
							"    .dataframe thead th {\n",
							"        text-align: right;\n",
							"    }\n",
							"</style>\n",
							"<table border=\"1\" class=\"dataframe\">\n",
							"  <thead>\n",
							"    <tr style=\"text-align: right;\">\n",
							"      <th></th>\n",
							"      <th>Tweet</th>\n",
							"      <th>Sarcasm (yes/no)</th>\n",
							"    </tr>\n",
							"  </thead>\n",
							"  <tbody>\n",
							"    <tr>\n",
							"      <th>0</th>\n",
							"      <td>I genuinely love musicians.</td>\n",
							"      <td>no</td>\n",
							"    </tr>\n",
							"    <tr>\n",
							"      <th>1</th>\n",
							"      <td>I find vegetarians to be wonderful.</td>\n",
							"      <td>no</td>\n",
							"    </tr>\n",
							"    <tr>\n",
							"      <th>2</th>\n",
							"      <td>Because artists really make everything better.</td>\n",
							"      <td>yes</td>\n",
							"    </tr>\n",
							"    <tr>\n",
							"      <th>3</th>\n",
							"      <td>Can't wait for more of the game.</td>\n",
							"      <td>yes</td>\n",
							"    </tr>\n",
							"    <tr>\n",
							"      <th>4</th>\n",
							"      <td>Oh great, another artists. Just what I needed.</td>\n",
							"      <td>yes</td>\n",
							"    </tr>\n",
							"    <tr>\n",
							"      <th>...</th>\n",
							"      <td>...</td>\n",
							"      <td>...</td>\n",
							"    </tr>\n",
							"    <tr>\n",
							"      <th>4995</th>\n",
							"      <td>Because musicians really make everything better.</td>\n",
							"      <td>yes</td>\n",
							"    </tr>\n",
							"    <tr>\n",
							"      <th>4996</th>\n",
							"      <td>Can't wait for more of musicians.</td>\n",
							"      <td>no</td>\n",
							"    </tr>\n",
							"    <tr>\n",
							"      <th>4997</th>\n",
							"      <td>I am always excited for this book.</td>\n",
							"      <td>no</td>\n",
							"    </tr>\n",
							"    <tr>\n",
							"      <th>4998</th>\n",
							"      <td>I find the concert to be wonderful.</td>\n",
							"      <td>no</td>\n",
							"    </tr>\n",
							"    <tr>\n",
							"      <th>4999</th>\n",
							"      <td>I genuinely love the concert.</td>\n",
							"      <td>no</td>\n",
							"    </tr>\n",
							"  </tbody>\n",
							"</table>\n",
							"<p>5000 rows × 2 columns</p>\n",
							"</div>"
						],
						"text/plain": [
							"                                                 Tweet Sarcasm (yes/no)\n",
							"0                          I genuinely love musicians.               no\n",
							"1                  I find vegetarians to be wonderful.               no\n",
							"2       Because artists really make everything better.              yes\n",
							"3                     Can't wait for more of the game.              yes\n",
							"4       Oh great, another artists. Just what I needed.              yes\n",
							"...                                                ...              ...\n",
							"4995  Because musicians really make everything better.              yes\n",
							"4996                 Can't wait for more of musicians.               no\n",
							"4997                I am always excited for this book.               no\n",
							"4998               I find the concert to be wonderful.               no\n",
							"4999                     I genuinely love the concert.               no\n",
							"\n",
							"[5000 rows x 2 columns]"
						]
					},
					"execution_count": 85,
					"metadata": {},
					"output_type": "execute_result"
				}
			],
			"source": [
				"tweets"
			]
		},
		{
			"cell_type": "code",
			"execution_count": 86,
			"metadata": {},
			"outputs": [
				{
					"data": {
						"text/html": [
							"<div>\n",
							"<style scoped>\n",
							"    .dataframe tbody tr th:only-of-type {\n",
							"        vertical-align: middle;\n",
							"    }\n",
							"\n",
							"    .dataframe tbody tr th {\n",
							"        vertical-align: top;\n",
							"    }\n",
							"\n",
							"    .dataframe thead th {\n",
							"        text-align: right;\n",
							"    }\n",
							"</style>\n",
							"<table border=\"1\" class=\"dataframe\">\n",
							"  <thead>\n",
							"    <tr style=\"text-align: right;\">\n",
							"      <th></th>\n",
							"      <th>Tweet</th>\n",
							"      <th>Sarcasm (yes/no)</th>\n",
							"    </tr>\n",
							"  </thead>\n",
							"  <tbody>\n",
							"    <tr>\n",
							"      <th>0</th>\n",
							"      <td>I genuinely love musicians.</td>\n",
							"      <td>no</td>\n",
							"    </tr>\n",
							"    <tr>\n",
							"      <th>1</th>\n",
							"      <td>I find vegetarians to be wonderful.</td>\n",
							"      <td>no</td>\n",
							"    </tr>\n",
							"    <tr>\n",
							"      <th>9</th>\n",
							"      <td>I am always excited for the workshop.</td>\n",
							"      <td>no</td>\n",
							"    </tr>\n",
							"    <tr>\n",
							"      <th>11</th>\n",
							"      <td>Had a great time with the conference.</td>\n",
							"      <td>no</td>\n",
							"    </tr>\n",
							"    <tr>\n",
							"      <th>13</th>\n",
							"      <td>this movie are truly inspiring.</td>\n",
							"      <td>no</td>\n",
							"    </tr>\n",
							"    <tr>\n",
							"      <th>...</th>\n",
							"      <td>...</td>\n",
							"      <td>...</td>\n",
							"    </tr>\n",
							"    <tr>\n",
							"      <th>4991</th>\n",
							"      <td>artists are genuinely amazing.</td>\n",
							"      <td>no</td>\n",
							"    </tr>\n",
							"    <tr>\n",
							"      <th>4996</th>\n",
							"      <td>Can't wait for more of musicians.</td>\n",
							"      <td>no</td>\n",
							"    </tr>\n",
							"    <tr>\n",
							"      <th>4997</th>\n",
							"      <td>I am always excited for this book.</td>\n",
							"      <td>no</td>\n",
							"    </tr>\n",
							"    <tr>\n",
							"      <th>4998</th>\n",
							"      <td>I find the concert to be wonderful.</td>\n",
							"      <td>no</td>\n",
							"    </tr>\n",
							"    <tr>\n",
							"      <th>4999</th>\n",
							"      <td>I genuinely love the concert.</td>\n",
							"      <td>no</td>\n",
							"    </tr>\n",
							"  </tbody>\n",
							"</table>\n",
							"<p>2479 rows × 2 columns</p>\n",
							"</div>"
						],
						"text/plain": [
							"                                      Tweet Sarcasm (yes/no)\n",
							"0               I genuinely love musicians.               no\n",
							"1       I find vegetarians to be wonderful.               no\n",
							"9     I am always excited for the workshop.               no\n",
							"11    Had a great time with the conference.               no\n",
							"13          this movie are truly inspiring.               no\n",
							"...                                     ...              ...\n",
							"4991         artists are genuinely amazing.               no\n",
							"4996      Can't wait for more of musicians.               no\n",
							"4997     I am always excited for this book.               no\n",
							"4998    I find the concert to be wonderful.               no\n",
							"4999          I genuinely love the concert.               no\n",
							"\n",
							"[2479 rows x 2 columns]"
						]
					},
					"execution_count": 86,
					"metadata": {},
					"output_type": "execute_result"
				}
			],
			"source": [
				"tweets[tweets[\"Sarcasm (yes/no)\"]== \"no\"]"
			]
		},
		{
			"cell_type": "code",
			"execution_count": 87,
			"metadata": {},
			"outputs": [],
			"source": [
				"tweets['is_sarcastic'] = tweets['Sarcasm (yes/no)'].apply(lambda x: 1 if x.strip().lower() == \"yes\" else 0)"
			]
		},
		{
			"cell_type": "code",
			"execution_count": 88,
			"metadata": {},
			"outputs": [
				{
					"data": {
						"text/html": [
							"<div>\n",
							"<style scoped>\n",
							"    .dataframe tbody tr th:only-of-type {\n",
							"        vertical-align: middle;\n",
							"    }\n",
							"\n",
							"    .dataframe tbody tr th {\n",
							"        vertical-align: top;\n",
							"    }\n",
							"\n",
							"    .dataframe thead th {\n",
							"        text-align: right;\n",
							"    }\n",
							"</style>\n",
							"<table border=\"1\" class=\"dataframe\">\n",
							"  <thead>\n",
							"    <tr style=\"text-align: right;\">\n",
							"      <th></th>\n",
							"      <th>Tweet</th>\n",
							"      <th>Sarcasm (yes/no)</th>\n",
							"      <th>is_sarcastic</th>\n",
							"    </tr>\n",
							"  </thead>\n",
							"  <tbody>\n",
							"    <tr>\n",
							"      <th>0</th>\n",
							"      <td>I genuinely love musicians.</td>\n",
							"      <td>no</td>\n",
							"      <td>0</td>\n",
							"    </tr>\n",
							"    <tr>\n",
							"      <th>1</th>\n",
							"      <td>I find vegetarians to be wonderful.</td>\n",
							"      <td>no</td>\n",
							"      <td>0</td>\n",
							"    </tr>\n",
							"    <tr>\n",
							"      <th>2</th>\n",
							"      <td>Because artists really make everything better.</td>\n",
							"      <td>yes</td>\n",
							"      <td>1</td>\n",
							"    </tr>\n",
							"    <tr>\n",
							"      <th>3</th>\n",
							"      <td>Can't wait for more of the game.</td>\n",
							"      <td>yes</td>\n",
							"      <td>1</td>\n",
							"    </tr>\n",
							"    <tr>\n",
							"      <th>4</th>\n",
							"      <td>Oh great, another artists. Just what I needed.</td>\n",
							"      <td>yes</td>\n",
							"      <td>1</td>\n",
							"    </tr>\n",
							"  </tbody>\n",
							"</table>\n",
							"</div>"
						],
						"text/plain": [
							"                                            Tweet Sarcasm (yes/no)  \\\n",
							"0                     I genuinely love musicians.               no   \n",
							"1             I find vegetarians to be wonderful.               no   \n",
							"2  Because artists really make everything better.              yes   \n",
							"3                Can't wait for more of the game.              yes   \n",
							"4  Oh great, another artists. Just what I needed.              yes   \n",
							"\n",
							"   is_sarcastic  \n",
							"0             0  \n",
							"1             0  \n",
							"2             1  \n",
							"3             1  \n",
							"4             1  "
						]
					},
					"execution_count": 88,
					"metadata": {},
					"output_type": "execute_result"
				}
			],
			"source": [
				"tweets.head()"
			]
		},
		{
			"cell_type": "code",
			"execution_count": null,
			"metadata": {},
			"outputs": [],
			"source": []
		},
		{
			"cell_type": "code",
			"execution_count": 89,
			"metadata": {},
			"outputs": [],
			"source": [
				"tweets.drop(\"Sarcasm (yes/no)\", axis=1, inplace=True)"
			]
		},
		{
			"cell_type": "code",
			"execution_count": 90,
			"metadata": {},
			"outputs": [],
			"source": [
				"tweets.rename(columns={\"Tweet\":\"text\"}, inplace=True)"
			]
		},
		{
			"cell_type": "code",
			"execution_count": 91,
			"metadata": {},
			"outputs": [
				{
					"data": {
						"text/html": [
							"<div>\n",
							"<style scoped>\n",
							"    .dataframe tbody tr th:only-of-type {\n",
							"        vertical-align: middle;\n",
							"    }\n",
							"\n",
							"    .dataframe tbody tr th {\n",
							"        vertical-align: top;\n",
							"    }\n",
							"\n",
							"    .dataframe thead th {\n",
							"        text-align: right;\n",
							"    }\n",
							"</style>\n",
							"<table border=\"1\" class=\"dataframe\">\n",
							"  <thead>\n",
							"    <tr style=\"text-align: right;\">\n",
							"      <th></th>\n",
							"      <th>text</th>\n",
							"      <th>is_sarcastic</th>\n",
							"    </tr>\n",
							"  </thead>\n",
							"  <tbody>\n",
							"    <tr>\n",
							"      <th>0</th>\n",
							"      <td>I genuinely love musicians.</td>\n",
							"      <td>0</td>\n",
							"    </tr>\n",
							"    <tr>\n",
							"      <th>1</th>\n",
							"      <td>I find vegetarians to be wonderful.</td>\n",
							"      <td>0</td>\n",
							"    </tr>\n",
							"    <tr>\n",
							"      <th>2</th>\n",
							"      <td>Because artists really make everything better.</td>\n",
							"      <td>1</td>\n",
							"    </tr>\n",
							"    <tr>\n",
							"      <th>3</th>\n",
							"      <td>Can't wait for more of the game.</td>\n",
							"      <td>1</td>\n",
							"    </tr>\n",
							"    <tr>\n",
							"      <th>4</th>\n",
							"      <td>Oh great, another artists. Just what I needed.</td>\n",
							"      <td>1</td>\n",
							"    </tr>\n",
							"  </tbody>\n",
							"</table>\n",
							"</div>"
						],
						"text/plain": [
							"                                             text  is_sarcastic\n",
							"0                     I genuinely love musicians.             0\n",
							"1             I find vegetarians to be wonderful.             0\n",
							"2  Because artists really make everything better.             1\n",
							"3                Can't wait for more of the game.             1\n",
							"4  Oh great, another artists. Just what I needed.             1"
						]
					},
					"execution_count": 91,
					"metadata": {},
					"output_type": "execute_result"
				}
			],
			"source": [
				"tweets.head()"
			]
		},
		{
			"cell_type": "code",
			"execution_count": 92,
			"metadata": {},
			"outputs": [],
			"source": [
				"data = headlines"
			]
		},
		{
			"cell_type": "code",
			"execution_count": 93,
			"metadata": {},
			"outputs": [
				{
					"data": {
						"text/html": [
							"<div>\n",
							"<style scoped>\n",
							"    .dataframe tbody tr th:only-of-type {\n",
							"        vertical-align: middle;\n",
							"    }\n",
							"\n",
							"    .dataframe tbody tr th {\n",
							"        vertical-align: top;\n",
							"    }\n",
							"\n",
							"    .dataframe thead th {\n",
							"        text-align: right;\n",
							"    }\n",
							"</style>\n",
							"<table border=\"1\" class=\"dataframe\">\n",
							"  <thead>\n",
							"    <tr style=\"text-align: right;\">\n",
							"      <th></th>\n",
							"      <th>text</th>\n",
							"      <th>is_sarcastic</th>\n",
							"    </tr>\n",
							"  </thead>\n",
							"  <tbody>\n",
							"    <tr>\n",
							"      <th>0</th>\n",
							"      <td>former versace store clerk sues over secret 'b...</td>\n",
							"      <td>0</td>\n",
							"    </tr>\n",
							"    <tr>\n",
							"      <th>1</th>\n",
							"      <td>the 'roseanne' revival catches up to our thorn...</td>\n",
							"      <td>0</td>\n",
							"    </tr>\n",
							"    <tr>\n",
							"      <th>2</th>\n",
							"      <td>mom starting to fear son's web series closest ...</td>\n",
							"      <td>1</td>\n",
							"    </tr>\n",
							"    <tr>\n",
							"      <th>3</th>\n",
							"      <td>boehner just wants wife to listen, not come up...</td>\n",
							"      <td>1</td>\n",
							"    </tr>\n",
							"    <tr>\n",
							"      <th>4</th>\n",
							"      <td>j.k. rowling wishes snape happy birthday in th...</td>\n",
							"      <td>0</td>\n",
							"    </tr>\n",
							"    <tr>\n",
							"      <th>...</th>\n",
							"      <td>...</td>\n",
							"      <td>...</td>\n",
							"    </tr>\n",
							"    <tr>\n",
							"      <th>28614</th>\n",
							"      <td>jews to celebrate rosh hashasha or something</td>\n",
							"      <td>1</td>\n",
							"    </tr>\n",
							"    <tr>\n",
							"      <th>28615</th>\n",
							"      <td>internal affairs investigator disappointed con...</td>\n",
							"      <td>1</td>\n",
							"    </tr>\n",
							"    <tr>\n",
							"      <th>28616</th>\n",
							"      <td>the most beautiful acceptance speech this week...</td>\n",
							"      <td>0</td>\n",
							"    </tr>\n",
							"    <tr>\n",
							"      <th>28617</th>\n",
							"      <td>mars probe destroyed by orbiting spielberg-gat...</td>\n",
							"      <td>1</td>\n",
							"    </tr>\n",
							"    <tr>\n",
							"      <th>28618</th>\n",
							"      <td>dad clarifies this not a food stop</td>\n",
							"      <td>1</td>\n",
							"    </tr>\n",
							"  </tbody>\n",
							"</table>\n",
							"<p>55328 rows × 2 columns</p>\n",
							"</div>"
						],
						"text/plain": [
							"                                                    text  is_sarcastic\n",
							"0      former versace store clerk sues over secret 'b...             0\n",
							"1      the 'roseanne' revival catches up to our thorn...             0\n",
							"2      mom starting to fear son's web series closest ...             1\n",
							"3      boehner just wants wife to listen, not come up...             1\n",
							"4      j.k. rowling wishes snape happy birthday in th...             0\n",
							"...                                                  ...           ...\n",
							"28614       jews to celebrate rosh hashasha or something             1\n",
							"28615  internal affairs investigator disappointed con...             1\n",
							"28616  the most beautiful acceptance speech this week...             0\n",
							"28617  mars probe destroyed by orbiting spielberg-gat...             1\n",
							"28618                 dad clarifies this not a food stop             1\n",
							"\n",
							"[55328 rows x 2 columns]"
						]
					},
					"execution_count": 93,
					"metadata": {},
					"output_type": "execute_result"
				}
			],
			"source": [
				"data"
			]
		},
		{
			"cell_type": "code",
			"execution_count": 94,
			"metadata": {},
			"outputs": [
				{
					"data": {
						"text/plain": [
							"text            0\n",
							"is_sarcastic    0\n",
							"dtype: int64"
						]
					},
					"execution_count": 94,
					"metadata": {},
					"output_type": "execute_result"
				}
			],
			"source": [
				"data.isna().sum()"
			]
		},
		{
			"cell_type": "code",
			"execution_count": 95,
			"metadata": {},
			"outputs": [
				{
					"data": {
						"text/plain": [
							"26825"
						]
					},
					"execution_count": 95,
					"metadata": {},
					"output_type": "execute_result"
				}
			],
			"source": [
				"data.duplicated().sum()"
			]
		},
		{
			"cell_type": "code",
			"execution_count": 96,
			"metadata": {},
			"outputs": [],
			"source": [
				"data.drop_duplicates(inplace = True)"
			]
		},
		{
			"cell_type": "code",
			"execution_count": 97,
			"metadata": {},
			"outputs": [
				{
					"data": {
						"text/plain": [
							"<bound method NDFrame.describe of                                                     text  is_sarcastic\n",
							"0      former versace store clerk sues over secret 'b...             0\n",
							"1      the 'roseanne' revival catches up to our thorn...             0\n",
							"2      mom starting to fear son's web series closest ...             1\n",
							"3      boehner just wants wife to listen, not come up...             1\n",
							"4      j.k. rowling wishes snape happy birthday in th...             0\n",
							"...                                                  ...           ...\n",
							"28497  tyson holds contest to let fans submit new ide...             1\n",
							"28509  increasingly cocky bernie sanders announces he...             1\n",
							"28520  cash-strapped zuckerberg forced to sell 11 mil...             1\n",
							"28544  grocery store bar actually has great little ha...             1\n",
							"28589  study: 83% of marathon spectators only attend ...             1\n",
							"\n",
							"[28503 rows x 2 columns]>"
						]
					},
					"execution_count": 97,
					"metadata": {},
					"output_type": "execute_result"
				}
			],
			"source": [
				"data.describe"
			]
		},
		{
			"cell_type": "code",
			"execution_count": 98,
			"metadata": {},
			"outputs": [
				{
					"data": {
						"text/plain": [
							"is_sarcastic\n",
							"0    14951\n",
							"1    13552\n",
							"Name: count, dtype: int64"
						]
					},
					"execution_count": 98,
					"metadata": {},
					"output_type": "execute_result"
				}
			],
			"source": [
				"data['is_sarcastic'].value_counts()"
			]
		},
		{
			"cell_type": "code",
			"execution_count": 99,
			"metadata": {},
			"outputs": [
				{
					"data": {
						"text/plain": [
							"<Axes: xlabel='is_sarcastic'>"
						]
					},
					"execution_count": 99,
					"metadata": {},
					"output_type": "execute_result"
				},
				{
					"data": {
						"image/png": "[encoded data removed]",
						"text/plain": [
							"<Figure size 640x480 with 1 Axes>"
						]
					},
					"metadata": {},
					"output_type": "display_data"
				}
			],
			"source": [
				"data['is_sarcastic'].value_counts().plot(kind='bar')"
			]
		},
		{
			"cell_type": "markdown",
			"metadata": {},
			"source": [
				"# Preprocessing"
			]
		},
		{
			"cell_type": "code",
			"execution_count": 100,
			"metadata": {},
			"outputs": [],
			"source": [
				"import re\n",
				"from nltk.tokenize import word_tokenize\n",
				"from nltk.corpus import stopwords\n",
				"from nltk.stem import PorterStemmer"
			]
		},
		{
			"cell_type": "code",
			"execution_count": 101,
			"metadata": {},
			"outputs": [],
			"source": [
				"def preprocess_text(text):\n",
				"    text = text.lower()\n",
				"    \n",
				"    text = re.sub(r'[^\\w\\s]', '', text)  \n",
				"    text = re.sub(r'\\d+', '', text)      \n",
				"    \n",
				"    tokens = word_tokenize(text)\n",
				"\n",
				"    stop_words = set(stopwords.words('english'))\n",
				"    tokens = [word for word in tokens if word not in stop_words]\n",
				"    \n",
				"    stemmer = PorterStemmer()\n",
				"    tokens = [stemmer.stem(word) for word in tokens]\n",
				"    \n",
				"    return ' '.join(tokens)\n"
			]
		},
		{
			"cell_type": "code",
			"execution_count": 102,
			"metadata": {},
			"outputs": [],
			"source": [
				"data['text'] = data['text'].apply(preprocess_text)"
			]
		},
		{
			"cell_type": "code",
			"execution_count": 103,
			"metadata": {},
			"outputs": [],
			"source": [
				"from sklearn.model_selection import train_test_split"
			]
		},
		{
			"cell_type": "code",
			"execution_count": 104,
			"metadata": {},
			"outputs": [],
			"source": [
				"X = data['text']\n",
				"y = data['is_sarcastic']"
			]
		},
		{
			"cell_type": "code",
			"execution_count": 105,
			"metadata": {},
			"outputs": [],
			"source": [
				"X_train, X_test, y_train, y_test = train_test_split(X, y, test_size=.2, random_state=42)"
			]
		},
		{
			"cell_type": "code",
			"execution_count": 106,
			"metadata": {},
			"outputs": [],
			"source": [
				"num_words =  10000"
			]
		},
		{
			"cell_type": "code",
			"execution_count": 107,
			"metadata": {},
			"outputs": [],
			"source": [
				"tokenizer = tf.keras.preprocessing.text.Tokenizer(num_words=num_words,\n",
				"                                                  filters='!\"#$%&()*+,-./:;<=>?@[\\\\]^_`{|}~\\t\\n',\n",
				"                                                  oov_token= '<oov>')"
			]
		},
		{
			"cell_type": "code",
			"execution_count": 108,
			"metadata": {},
			"outputs": [],
			"source": [
				"tokenizer.fit_on_texts(X_train)"
			]
		},
		{
			"cell_type": "code",
			"execution_count": 109,
			"metadata": {},
			"outputs": [],
			"source": [
				"word_index = tokenizer.word_index"
			]
		},
		{
			"cell_type": "code",
			"execution_count": 110,
			"metadata": {},
			"outputs": [],
			"source": [
				"reverse_word_index = dict([(v, k) for (k, v) in word_index.items()])"
			]
		},
		{
			"cell_type": "code",
			"execution_count": 111,
			"metadata": {},
			"outputs": [
				{
					"data": {
						"text/plain": [
							"17800"
						]
					},
					"execution_count": 111,
					"metadata": {},
					"output_type": "execute_result"
				}
			],
			"source": [
				"vocab_size = len(word_index)\n",
				"vocab_size"
			]
		},
		{
			"cell_type": "code",
			"execution_count": 112,
			"metadata": {},
			"outputs": [],
			"source": [
				"X_train = tokenizer.texts_to_sequences(X_train)"
			]
		},
		{
			"cell_type": "code",
			"execution_count": 113,
			"metadata": {},
			"outputs": [],
			"source": [
				"X_test = tokenizer.texts_to_sequences(X_test)"
			]
		},
		{
			"cell_type": "code",
			"execution_count": 114,
			"metadata": {},
			"outputs": [
				{
					"data": {
						"text/plain": [
							"106"
						]
					},
					"execution_count": 114,
					"metadata": {},
					"output_type": "execute_result"
				}
			],
			"source": [
				"max_len = max([len(s) for s in X_train])\n",
				"max_len"
			]
		},
		{
			"cell_type": "code",
			"execution_count": 115,
			"metadata": {},
			"outputs": [],
			"source": [
				"X_train = tf.keras.utils.pad_sequences(X_train, padding='pre', maxlen=max_len)\n",
				"\n",
				"X_test = tf.keras.utils.pad_sequences(X_test, padding='pre', maxlen=max_len)"
			]
		},
		{
			"cell_type": "markdown",
			"metadata": {},
			"source": [
				"## Modelling with Keras"
			]
		},
		{
			"cell_type": "code",
			"execution_count": 116,
			"metadata": {},
			"outputs": [],
			"source": [
				"lstm_model = tf.keras.models.Sequential([\n",
				"    tf.keras.layers.Input(shape=(max_len,)),\n",
				"    tf.keras.layers.Embedding(input_dim=num_words, output_dim=80), \n",
				"    tf.keras.layers.Bidirectional(tf.keras.layers.LSTM(units=80, activation=tf.nn.tanh)),  \n",
				"    tf.keras.layers.Dropout(0.3),\n",
				"    tf.keras.layers.Dense(units=80, activation=tf.nn.elu),  \n",
				"    tf.keras.layers.Dense(units=1, activation='sigmoid')\n",
				"])\n",
				"\n"
			]
		},
		{
			"cell_type": "code",
			"execution_count": 117,
			"metadata": {},
			"outputs": [],
			"source": [
				"lstm_model.compile(loss='binary_crossentropy', optimizer='adam', metrics=['acc'])"
			]
		},
		{
			"cell_type": "code",
			"execution_count": 118,
			"metadata": {},
			"outputs": [
				{
					"data": {
						"text/html": [
							"<pre style=\"white-space:pre;overflow-x:auto;line-height:normal;font-family:Menlo,'DejaVu Sans Mono',consolas,'Courier New',monospace\"><span style=\"font-weight: bold\">Model: \"sequential_2\"</span>\n",
							"</pre>\n"
						],
						"text/plain": [
							"\u001b[1mModel: \"sequential_2\"\u001b[0m\n"
						]
					},
					"metadata": {},
					"output_type": "display_data"
				},
				{
					"data": {
						"text/html": [
							"<pre style=\"white-space:pre;overflow-x:auto;line-height:normal;font-family:Menlo,'DejaVu Sans Mono',consolas,'Courier New',monospace\">┏━━━━━━━━━━━━━━━━━━━━━━━━━━━━━━━━━┳━━━━━━━━━━━━━━━━━━━━━━━━┳━━━━━━━━━━━━━━━┓\n",
							"┃<span style=\"font-weight: bold\"> Layer (type)                    </span>┃<span style=\"font-weight: bold\"> Output Shape           </span>┃<span style=\"font-weight: bold\">       Param # </span>┃\n",
							"┡━━━━━━━━━━━━━━━━━━━━━━━━━━━━━━━━━╇━━━━━━━━━━━━━━━━━━━━━━━━╇━━━━━━━━━━━━━━━┩\n",
							"│ embedding_2 (<span style=\"color: #0087ff; text-decoration-color: #0087ff\">Embedding</span>)         │ (<span style=\"color: #00d7ff; text-decoration-color: #00d7ff\">None</span>, <span style=\"color: #00af00; text-decoration-color: #00af00\">106</span>, <span style=\"color: #00af00; text-decoration-color: #00af00\">80</span>)        │       <span style=\"color: #00af00; text-decoration-color: #00af00\">800,000</span> │\n",
							"├─────────────────────────────────┼────────────────────────┼───────────────┤\n",
							"│ bidirectional_1 (<span style=\"color: #0087ff; text-decoration-color: #0087ff\">Bidirectional</span>) │ (<span style=\"color: #00d7ff; text-decoration-color: #00d7ff\">None</span>, <span style=\"color: #00af00; text-decoration-color: #00af00\">160</span>)            │       <span style=\"color: #00af00; text-decoration-color: #00af00\">103,040</span> │\n",
							"├─────────────────────────────────┼────────────────────────┼───────────────┤\n",
							"│ dropout_2 (<span style=\"color: #0087ff; text-decoration-color: #0087ff\">Dropout</span>)             │ (<span style=\"color: #00d7ff; text-decoration-color: #00d7ff\">None</span>, <span style=\"color: #00af00; text-decoration-color: #00af00\">160</span>)            │             <span style=\"color: #00af00; text-decoration-color: #00af00\">0</span> │\n",
							"├─────────────────────────────────┼────────────────────────┼───────────────┤\n",
							"│ dense_4 (<span style=\"color: #0087ff; text-decoration-color: #0087ff\">Dense</span>)                 │ (<span style=\"color: #00d7ff; text-decoration-color: #00d7ff\">None</span>, <span style=\"color: #00af00; text-decoration-color: #00af00\">80</span>)             │        <span style=\"color: #00af00; text-decoration-color: #00af00\">12,880</span> │\n",
							"├─────────────────────────────────┼────────────────────────┼───────────────┤\n",
							"│ dense_5 (<span style=\"color: #0087ff; text-decoration-color: #0087ff\">Dense</span>)                 │ (<span style=\"color: #00d7ff; text-decoration-color: #00d7ff\">None</span>, <span style=\"color: #00af00; text-decoration-color: #00af00\">1</span>)              │            <span style=\"color: #00af00; text-decoration-color: #00af00\">81</span> │\n",
							"└─────────────────────────────────┴────────────────────────┴───────────────┘\n",
							"</pre>\n"
						],
						"text/plain": [
							"┏━━━━━━━━━━━━━━━━━━━━━━━━━━━━━━━━━┳━━━━━━━━━━━━━━━━━━━━━━━━┳━━━━━━━━━━━━━━━┓\n",
							"┃\u001b[1m \u001b[0m\u001b[1mLayer (type)                   \u001b[0m\u001b[1m \u001b[0m┃\u001b[1m \u001b[0m\u001b[1mOutput Shape          \u001b[0m\u001b[1m \u001b[0m┃\u001b[1m \u001b[0m\u001b[1m      Param #\u001b[0m\u001b[1m \u001b[0m┃\n",
							"┡━━━━━━━━━━━━━━━━━━━━━━━━━━━━━━━━━╇━━━━━━━━━━━━━━━━━━━━━━━━╇━━━━━━━━━━━━━━━┩\n",
							"│ embedding_2 (\u001b[38;5;33mEmbedding\u001b[0m)         │ (\u001b[38;5;45mNone\u001b[0m, \u001b[38;5;34m106\u001b[0m, \u001b[38;5;34m80\u001b[0m)        │       \u001b[38;5;34m800,000\u001b[0m │\n",
							"├─────────────────────────────────┼────────────────────────┼───────────────┤\n",
							"│ bidirectional_1 (\u001b[38;5;33mBidirectional\u001b[0m) │ (\u001b[38;5;45mNone\u001b[0m, \u001b[38;5;34m160\u001b[0m)            │       \u001b[38;5;34m103,040\u001b[0m │\n",
							"├─────────────────────────────────┼────────────────────────┼───────────────┤\n",
							"│ dropout_2 (\u001b[38;5;33mDropout\u001b[0m)             │ (\u001b[38;5;45mNone\u001b[0m, \u001b[38;5;34m160\u001b[0m)            │             \u001b[38;5;34m0\u001b[0m │\n",
							"├─────────────────────────────────┼────────────────────────┼───────────────┤\n",
							"│ dense_4 (\u001b[38;5;33mDense\u001b[0m)                 │ (\u001b[38;5;45mNone\u001b[0m, \u001b[38;5;34m80\u001b[0m)             │        \u001b[38;5;34m12,880\u001b[0m │\n",
							"├─────────────────────────────────┼────────────────────────┼───────────────┤\n",
							"│ dense_5 (\u001b[38;5;33mDense\u001b[0m)                 │ (\u001b[38;5;45mNone\u001b[0m, \u001b[38;5;34m1\u001b[0m)              │            \u001b[38;5;34m81\u001b[0m │\n",
							"└─────────────────────────────────┴────────────────────────┴───────────────┘\n"
						]
					},
					"metadata": {},
					"output_type": "display_data"
				},
				{
					"data": {
						"text/html": [
							"<pre style=\"white-space:pre;overflow-x:auto;line-height:normal;font-family:Menlo,'DejaVu Sans Mono',consolas,'Courier New',monospace\"><span style=\"font-weight: bold\"> Total params: </span><span style=\"color: #00af00; text-decoration-color: #00af00\">916,001</span> (3.49 MB)\n",
							"</pre>\n"
						],
						"text/plain": [
							"\u001b[1m Total params: \u001b[0m\u001b[38;5;34m916,001\u001b[0m (3.49 MB)\n"
						]
					},
					"metadata": {},
					"output_type": "display_data"
				},
				{
					"data": {
						"text/html": [
							"<pre style=\"white-space:pre;overflow-x:auto;line-height:normal;font-family:Menlo,'DejaVu Sans Mono',consolas,'Courier New',monospace\"><span style=\"font-weight: bold\"> Trainable params: </span><span style=\"color: #00af00; text-decoration-color: #00af00\">916,001</span> (3.49 MB)\n",
							"</pre>\n"
						],
						"text/plain": [
							"\u001b[1m Trainable params: \u001b[0m\u001b[38;5;34m916,001\u001b[0m (3.49 MB)\n"
						]
					},
					"metadata": {},
					"output_type": "display_data"
				},
				{
					"data": {
						"text/html": [
							"<pre style=\"white-space:pre;overflow-x:auto;line-height:normal;font-family:Menlo,'DejaVu Sans Mono',consolas,'Courier New',monospace\"><span style=\"font-weight: bold\"> Non-trainable params: </span><span style=\"color: #00af00; text-decoration-color: #00af00\">0</span> (0.00 B)\n",
							"</pre>\n"
						],
						"text/plain": [
							"\u001b[1m Non-trainable params: \u001b[0m\u001b[38;5;34m0\u001b[0m (0.00 B)\n"
						]
					},
					"metadata": {},
					"output_type": "display_data"
				}
			],
			"source": [
				"lstm_model.summary()\n"
			]
		},
		{
			"cell_type": "code",
			"execution_count": 137,
			"metadata": {},
			"outputs": [
				{
					"data": {
						"image/png": "[encoded data removed]",
						"text/plain": [
							"<IPython.core.display.Image object>"
						]
					},
					"execution_count": 137,
					"metadata": {},
					"output_type": "execute_result"
				}
			],
			"source": [
				"tf.keras.utils.plot_model(lstm_model)"
			]
		},
		{
			"cell_type": "code",
			"execution_count": 119,
			"metadata": {},
			"outputs": [
				{
					"name": "stdout",
					"output_type": "stream",
					"text": [
						"Epoch 1/5\n",
						"\u001b[1m713/713\u001b[0m \u001b[32m━━━━━━━━━━━━━━━━━━━━\u001b[0m\u001b[37m\u001b[0m \u001b[1m22s\u001b[0m 28ms/step - acc: 0.6936 - loss: 0.5602 - val_acc: 0.7974 - val_loss: 0.4299\n",
						"Epoch 2/5\n",
						"\u001b[1m713/713\u001b[0m \u001b[32m━━━━━━━━━━━━━━━━━━━━\u001b[0m\u001b[37m\u001b[0m \u001b[1m19s\u001b[0m 27ms/step - acc: 0.8736 - loss: 0.3029 - val_acc: 0.8039 - val_loss: 0.4651\n",
						"Epoch 3/5\n",
						"\u001b[1m713/713\u001b[0m \u001b[32m━━━━━━━━━━━━━━━━━━━━\u001b[0m\u001b[37m\u001b[0m \u001b[1m19s\u001b[0m 27ms/step - acc: 0.9232 - loss: 0.1980 - val_acc: 0.7881 - val_loss: 0.5244\n",
						"Epoch 4/5\n",
						"\u001b[1m713/713\u001b[0m \u001b[32m━━━━━━━━━━━━━━━━━━━━\u001b[0m\u001b[37m\u001b[0m \u001b[1m21s\u001b[0m 29ms/step - acc: 0.9487 - loss: 0.1403 - val_acc: 0.7828 - val_loss: 0.6003\n",
						"Epoch 5/5\n",
						"\u001b[1m713/713\u001b[0m \u001b[32m━━━━━━━━━━━━━━━━━━━━\u001b[0m\u001b[37m\u001b[0m \u001b[1m20s\u001b[0m 28ms/step - acc: 0.9635 - loss: 0.1023 - val_acc: 0.7851 - val_loss: 0.6933\n"
					]
				}
			],
			"source": [
				"h = lstm_model.fit(X_train, y_train, epochs=5, batch_size=32, validation_data=(X_test, y_test))"
			]
		},
		{
			"cell_type": "code",
			"execution_count": 120,
			"metadata": {},
			"outputs": [
				{
					"data": {
						"text/plain": [
							"<Axes: title={'center': 'Model Accuracy and Loss Graph'}>"
						]
					},
					"execution_count": 120,
					"metadata": {},
					"output_type": "execute_result"
				},
				{
					"data": {
						"image/png": "[encoded data removed]",
						"text/plain": [
							"<Figure size 640x480 with 1 Axes>"
						]
					},
					"metadata": {},
					"output_type": "display_data"
				}
			],
			"source": [
				"pd.DataFrame(h.history).plot(title='Model Accuracy and Loss Graph')"
			]
		},
		{
			"cell_type": "code",
			"execution_count": 121,
			"metadata": {},
			"outputs": [
				{
					"name": "stdout",
					"output_type": "stream",
					"text": [
						"\u001b[1m179/179\u001b[0m \u001b[32m━━━━━━━━━━━━━━━━━━━━\u001b[0m\u001b[37m\u001b[0m \u001b[1m2s\u001b[0m 9ms/step - acc: 0.7764 - loss: 0.7201\n",
						"LSTM Model Accuracy: 0.7851254343986511\n",
						"LSTM Model Loss: 0.6932697892189026\n"
					]
				}
			],
			"source": [
				"lstm_loss, lstm_acc = lstm_model.evaluate(X_test, y_test)\n",
				"\n",
				"print(f'LSTM Model Accuracy: {lstm_acc}')\n",
				"print(f'LSTM Model Loss: {lstm_loss}')"
			]
		},
		{
			"cell_type": "code",
			"execution_count": 122,
			"metadata": {},
			"outputs": [],
			"source": [
				"cnn_model = tf.keras.models.Sequential([\n",
				"    tf.keras.layers.Input(shape=(max_len,)),\n",
				"    tf.keras.layers.Embedding(input_dim=num_words, output_dim=80),  \n",
				"    tf.keras.layers.Conv1D(filters=64, kernel_size=3, activation='relu'),\n",
				"    tf.keras.layers.MaxPooling1D(pool_size=2),\n",
				"    tf.keras.layers.Flatten(),\n",
				"    tf.keras.layers.Dense(100, activation='relu'),\n",
				"    tf.keras.layers.Dropout(0.5),\n",
				"    tf.keras.layers.Dense(1, activation='sigmoid')\n",
				"])\n"
			]
		},
		{
			"cell_type": "code",
			"execution_count": 123,
			"metadata": {},
			"outputs": [],
			"source": [
				"cnn_model.compile(loss='binary_crossentropy', optimizer='adam', metrics=['acc'])"
			]
		},
		{
			"cell_type": "code",
			"execution_count": 124,
			"metadata": {},
			"outputs": [
				{
					"data": {
						"text/html": [
							"<pre style=\"white-space:pre;overflow-x:auto;line-height:normal;font-family:Menlo,'DejaVu Sans Mono',consolas,'Courier New',monospace\"><span style=\"font-weight: bold\">Model: \"sequential_3\"</span>\n",
							"</pre>\n"
						],
						"text/plain": [
							"\u001b[1mModel: \"sequential_3\"\u001b[0m\n"
						]
					},
					"metadata": {},
					"output_type": "display_data"
				},
				{
					"data": {
						"text/html": [
							"<pre style=\"white-space:pre;overflow-x:auto;line-height:normal;font-family:Menlo,'DejaVu Sans Mono',consolas,'Courier New',monospace\">┏━━━━━━━━━━━━━━━━━━━━━━━━━━━━━━━━━┳━━━━━━━━━━━━━━━━━━━━━━━━┳━━━━━━━━━━━━━━━┓\n",
							"┃<span style=\"font-weight: bold\"> Layer (type)                    </span>┃<span style=\"font-weight: bold\"> Output Shape           </span>┃<span style=\"font-weight: bold\">       Param # </span>┃\n",
							"┡━━━━━━━━━━━━━━━━━━━━━━━━━━━━━━━━━╇━━━━━━━━━━━━━━━━━━━━━━━━╇━━━━━━━━━━━━━━━┩\n",
							"│ embedding_3 (<span style=\"color: #0087ff; text-decoration-color: #0087ff\">Embedding</span>)         │ (<span style=\"color: #00d7ff; text-decoration-color: #00d7ff\">None</span>, <span style=\"color: #00af00; text-decoration-color: #00af00\">106</span>, <span style=\"color: #00af00; text-decoration-color: #00af00\">80</span>)        │       <span style=\"color: #00af00; text-decoration-color: #00af00\">800,000</span> │\n",
							"├─────────────────────────────────┼────────────────────────┼───────────────┤\n",
							"│ conv1d_1 (<span style=\"color: #0087ff; text-decoration-color: #0087ff\">Conv1D</span>)               │ (<span style=\"color: #00d7ff; text-decoration-color: #00d7ff\">None</span>, <span style=\"color: #00af00; text-decoration-color: #00af00\">104</span>, <span style=\"color: #00af00; text-decoration-color: #00af00\">64</span>)        │        <span style=\"color: #00af00; text-decoration-color: #00af00\">15,424</span> │\n",
							"├─────────────────────────────────┼────────────────────────┼───────────────┤\n",
							"│ max_pooling1d_1 (<span style=\"color: #0087ff; text-decoration-color: #0087ff\">MaxPooling1D</span>)  │ (<span style=\"color: #00d7ff; text-decoration-color: #00d7ff\">None</span>, <span style=\"color: #00af00; text-decoration-color: #00af00\">52</span>, <span style=\"color: #00af00; text-decoration-color: #00af00\">64</span>)         │             <span style=\"color: #00af00; text-decoration-color: #00af00\">0</span> │\n",
							"├─────────────────────────────────┼────────────────────────┼───────────────┤\n",
							"│ flatten_1 (<span style=\"color: #0087ff; text-decoration-color: #0087ff\">Flatten</span>)             │ (<span style=\"color: #00d7ff; text-decoration-color: #00d7ff\">None</span>, <span style=\"color: #00af00; text-decoration-color: #00af00\">3328</span>)           │             <span style=\"color: #00af00; text-decoration-color: #00af00\">0</span> │\n",
							"├─────────────────────────────────┼────────────────────────┼───────────────┤\n",
							"│ dense_6 (<span style=\"color: #0087ff; text-decoration-color: #0087ff\">Dense</span>)                 │ (<span style=\"color: #00d7ff; text-decoration-color: #00d7ff\">None</span>, <span style=\"color: #00af00; text-decoration-color: #00af00\">100</span>)            │       <span style=\"color: #00af00; text-decoration-color: #00af00\">332,900</span> │\n",
							"├─────────────────────────────────┼────────────────────────┼───────────────┤\n",
							"│ dropout_3 (<span style=\"color: #0087ff; text-decoration-color: #0087ff\">Dropout</span>)             │ (<span style=\"color: #00d7ff; text-decoration-color: #00d7ff\">None</span>, <span style=\"color: #00af00; text-decoration-color: #00af00\">100</span>)            │             <span style=\"color: #00af00; text-decoration-color: #00af00\">0</span> │\n",
							"├─────────────────────────────────┼────────────────────────┼───────────────┤\n",
							"│ dense_7 (<span style=\"color: #0087ff; text-decoration-color: #0087ff\">Dense</span>)                 │ (<span style=\"color: #00d7ff; text-decoration-color: #00d7ff\">None</span>, <span style=\"color: #00af00; text-decoration-color: #00af00\">1</span>)              │           <span style=\"color: #00af00; text-decoration-color: #00af00\">101</span> │\n",
							"└─────────────────────────────────┴────────────────────────┴───────────────┘\n",
							"</pre>\n"
						],
						"text/plain": [
							"┏━━━━━━━━━━━━━━━━━━━━━━━━━━━━━━━━━┳━━━━━━━━━━━━━━━━━━━━━━━━┳━━━━━━━━━━━━━━━┓\n",
							"┃\u001b[1m \u001b[0m\u001b[1mLayer (type)                   \u001b[0m\u001b[1m \u001b[0m┃\u001b[1m \u001b[0m\u001b[1mOutput Shape          \u001b[0m\u001b[1m \u001b[0m┃\u001b[1m \u001b[0m\u001b[1m      Param #\u001b[0m\u001b[1m \u001b[0m┃\n",
							"┡━━━━━━━━━━━━━━━━━━━━━━━━━━━━━━━━━╇━━━━━━━━━━━━━━━━━━━━━━━━╇━━━━━━━━━━━━━━━┩\n",
							"│ embedding_3 (\u001b[38;5;33mEmbedding\u001b[0m)         │ (\u001b[38;5;45mNone\u001b[0m, \u001b[38;5;34m106\u001b[0m, \u001b[38;5;34m80\u001b[0m)        │       \u001b[38;5;34m800,000\u001b[0m │\n",
							"├─────────────────────────────────┼────────────────────────┼───────────────┤\n",
							"│ conv1d_1 (\u001b[38;5;33mConv1D\u001b[0m)               │ (\u001b[38;5;45mNone\u001b[0m, \u001b[38;5;34m104\u001b[0m, \u001b[38;5;34m64\u001b[0m)        │        \u001b[38;5;34m15,424\u001b[0m │\n",
							"├─────────────────────────────────┼────────────────────────┼───────────────┤\n",
							"│ max_pooling1d_1 (\u001b[38;5;33mMaxPooling1D\u001b[0m)  │ (\u001b[38;5;45mNone\u001b[0m, \u001b[38;5;34m52\u001b[0m, \u001b[38;5;34m64\u001b[0m)         │             \u001b[38;5;34m0\u001b[0m │\n",
							"├─────────────────────────────────┼────────────────────────┼───────────────┤\n",
							"│ flatten_1 (\u001b[38;5;33mFlatten\u001b[0m)             │ (\u001b[38;5;45mNone\u001b[0m, \u001b[38;5;34m3328\u001b[0m)           │             \u001b[38;5;34m0\u001b[0m │\n",
							"├─────────────────────────────────┼────────────────────────┼───────────────┤\n",
							"│ dense_6 (\u001b[38;5;33mDense\u001b[0m)                 │ (\u001b[38;5;45mNone\u001b[0m, \u001b[38;5;34m100\u001b[0m)            │       \u001b[38;5;34m332,900\u001b[0m │\n",
							"├─────────────────────────────────┼────────────────────────┼───────────────┤\n",
							"│ dropout_3 (\u001b[38;5;33mDropout\u001b[0m)             │ (\u001b[38;5;45mNone\u001b[0m, \u001b[38;5;34m100\u001b[0m)            │             \u001b[38;5;34m0\u001b[0m │\n",
							"├─────────────────────────────────┼────────────────────────┼───────────────┤\n",
							"│ dense_7 (\u001b[38;5;33mDense\u001b[0m)                 │ (\u001b[38;5;45mNone\u001b[0m, \u001b[38;5;34m1\u001b[0m)              │           \u001b[38;5;34m101\u001b[0m │\n",
							"└─────────────────────────────────┴────────────────────────┴───────────────┘\n"
						]
					},
					"metadata": {},
					"output_type": "display_data"
				},
				{
					"data": {
						"text/html": [
							"<pre style=\"white-space:pre;overflow-x:auto;line-height:normal;font-family:Menlo,'DejaVu Sans Mono',consolas,'Courier New',monospace\"><span style=\"font-weight: bold\"> Total params: </span><span style=\"color: #00af00; text-decoration-color: #00af00\">1,148,425</span> (4.38 MB)\n",
							"</pre>\n"
						],
						"text/plain": [
							"\u001b[1m Total params: \u001b[0m\u001b[38;5;34m1,148,425\u001b[0m (4.38 MB)\n"
						]
					},
					"metadata": {},
					"output_type": "display_data"
				},
				{
					"data": {
						"text/html": [
							"<pre style=\"white-space:pre;overflow-x:auto;line-height:normal;font-family:Menlo,'DejaVu Sans Mono',consolas,'Courier New',monospace\"><span style=\"font-weight: bold\"> Trainable params: </span><span style=\"color: #00af00; text-decoration-color: #00af00\">1,148,425</span> (4.38 MB)\n",
							"</pre>\n"
						],
						"text/plain": [
							"\u001b[1m Trainable params: \u001b[0m\u001b[38;5;34m1,148,425\u001b[0m (4.38 MB)\n"
						]
					},
					"metadata": {},
					"output_type": "display_data"
				},
				{
					"data": {
						"text/html": [
							"<pre style=\"white-space:pre;overflow-x:auto;line-height:normal;font-family:Menlo,'DejaVu Sans Mono',consolas,'Courier New',monospace\"><span style=\"font-weight: bold\"> Non-trainable params: </span><span style=\"color: #00af00; text-decoration-color: #00af00\">0</span> (0.00 B)\n",
							"</pre>\n"
						],
						"text/plain": [
							"\u001b[1m Non-trainable params: \u001b[0m\u001b[38;5;34m0\u001b[0m (0.00 B)\n"
						]
					},
					"metadata": {},
					"output_type": "display_data"
				}
			],
			"source": [
				"cnn_model.summary()"
			]
		},
		{
			"cell_type": "code",
			"execution_count": 136,
			"metadata": {},
			"outputs": [
				{
					"data": {
						"image/png": "[encoded data removed]",
						"text/plain": [
							"<IPython.core.display.Image object>"
						]
					},
					"execution_count": 136,
					"metadata": {},
					"output_type": "execute_result"
				}
			],
			"source": [
				"tf.keras.utils.plot_model(cnn_model)"
			]
		},
		{
			"cell_type": "code",
			"execution_count": 125,
			"metadata": {},
			"outputs": [
				{
					"name": "stdout",
					"output_type": "stream",
					"text": [
						"Epoch 1/5\n",
						"\u001b[1m713/713\u001b[0m \u001b[32m━━━━━━━━━━━━━━━━━━━━\u001b[0m\u001b[37m\u001b[0m \u001b[1m7s\u001b[0m 8ms/step - acc: 0.6645 - loss: 0.5830 - val_acc: 0.8051 - val_loss: 0.4257\n",
						"Epoch 2/5\n",
						"\u001b[1m713/713\u001b[0m \u001b[32m━━━━━━━━━━━━━━━━━━━━\u001b[0m\u001b[37m\u001b[0m \u001b[1m5s\u001b[0m 7ms/step - acc: 0.8880 - loss: 0.2795 - val_acc: 0.7934 - val_loss: 0.4757\n",
						"Epoch 3/5\n",
						"\u001b[1m713/713\u001b[0m \u001b[32m━━━━━━━━━━━━━━━━━━━━\u001b[0m\u001b[37m\u001b[0m \u001b[1m5s\u001b[0m 7ms/step - acc: 0.9588 - loss: 0.1222 - val_acc: 0.7872 - val_loss: 0.6081\n",
						"Epoch 4/5\n",
						"\u001b[1m713/713\u001b[0m \u001b[32m━━━━━━━━━━━━━━━━━━━━\u001b[0m\u001b[37m\u001b[0m \u001b[1m5s\u001b[0m 8ms/step - acc: 0.9845 - loss: 0.0478 - val_acc: 0.7858 - val_loss: 0.8812\n",
						"Epoch 5/5\n",
						"\u001b[1m713/713\u001b[0m \u001b[32m━━━━━━━━━━━━━━━━━━━━\u001b[0m\u001b[37m\u001b[0m \u001b[1m5s\u001b[0m 7ms/step - acc: 0.9947 - loss: 0.0170 - val_acc: 0.7886 - val_loss: 1.1888\n"
					]
				}
			],
			"source": [
				"h = cnn_model.fit(X_train, y_train, epochs=5, batch_size=32, validation_data=(X_test, y_test))"
			]
		},
		{
			"cell_type": "code",
			"execution_count": 126,
			"metadata": {},
			"outputs": [
				{
					"data": {
						"image/png": "[encoded data removed]",
						"text/plain": [
							"<Figure size 1200x600 with 2 Axes>"
						]
					},
					"metadata": {},
					"output_type": "display_data"
				}
			],
			"source": [
				"acc = h.history['acc']  \n",
				"val_acc = h.history['val_acc'] \n",
				"loss = h.history['loss']\n",
				"val_loss = h.history['val_loss']\n",
				"\n",
				"epochs = range(5)  \n",
				"\n",
				"fig, axes = plt.subplots(1, 2, figsize=(12, 6))\n",
				"\n",
				"axes[0].plot(epochs, acc, label='Training Accuracy')\n",
				"axes[0].plot(epochs, val_acc, label='Validation Accuracy')\n",
				"axes[0].set_title('Model Accuracy')\n",
				"axes[0].set_xlabel('Epochs')\n",
				"axes[0].set_ylabel('Accuracy')\n",
				"axes[0].legend()\n",
				"\n",
				"axes[1].plot(epochs, loss, label='Training Loss')\n",
				"axes[1].plot(epochs, val_loss, label='Validation Loss')\n",
				"axes[1].set_title('Model Loss')\n",
				"axes[1].set_xlabel('Epochs')\n",
				"axes[1].set_ylabel('Loss')\n",
				"axes[1].legend()\n",
				"\n",
				"plt.show()\n"
			]
		},
		{
			"cell_type": "code",
			"execution_count": 127,
			"metadata": {},
			"outputs": [
				{
					"name": "stdout",
					"output_type": "stream",
					"text": [
						"\u001b[1m179/179\u001b[0m \u001b[32m━━━━━━━━━━━━━━━━━━━━\u001b[0m\u001b[37m\u001b[0m \u001b[1m0s\u001b[0m 2ms/step - acc: 0.7852 - loss: 1.2458\n",
						"CNN Model Accuracy: 0.7886335849761963\n",
						"CNN Model Loss: 1.188799500465393\n"
					]
				}
			],
			"source": [
				"cnn_loss, cnn_acc = cnn_model.evaluate(X_test, y_test)\n",
				"print(f'CNN Model Accuracy: {cnn_acc}')\n",
				"print(f'CNN Model Loss: {cnn_loss}')"
			]
		},
		{
			"cell_type": "code",
			"execution_count": 128,
			"metadata": {},
			"outputs": [
				{
					"name": "stdout",
					"output_type": "stream",
					"text": [
						"LSTM Accuracy: 0.7851254343986511, Loss: 0.6932697892189026\n",
						"\n",
						"CNN Accuracy: 0.7886335849761963, Loss: 1.188799500465393\n"
					]
				}
			],
			"source": [
				"print(f'LSTM Accuracy: {lstm_acc}, Loss: {lstm_loss}')\n",
				"print(f'\\nCNN Accuracy: {cnn_acc}, Loss: {cnn_loss}')"
			]
		},
		{
			"cell_type": "code",
			"execution_count": 54,
			"metadata": {},
			"outputs": [
				{
					"name": "stdout",
					"output_type": "stream",
					"text": [
						"You must install graphviz (see instructions at https://graphviz.gitlab.io/download/) for `plot_model` to work.\n"
					]
				}
			],
			"source": [
				"from tensorflow.keras.utils import plot_model\n",
				"\n",
				"plot_model(lstm_model, to_file='lstm_model.png', show_shapes=True, show_layer_names=True)"
			]
		},
		{
			"cell_type": "markdown",
			"metadata": {},
			"source": [
				"## Modelling with pytorch"
			]
		},
		{
			"cell_type": "code",
			"execution_count": 129,
			"metadata": {},
			"outputs": [],
			"source": [
				"import torch\n",
				"import torch.nn as nn\n",
				"import torch.optim as optim\n",
				"from torch.utils.data import DataLoader, TensorDataset\n",
				"from tensorflow.keras.preprocessing.text import Tokenizer\n",
				"from tensorflow.keras.preprocessing.sequence import pad_sequences"
			]
		},
		{
			"cell_type": "code",
			"execution_count": 131,
			"metadata": {},
			"outputs": [],
			"source": [
				"# Tokenizer and padding\n",
				"max_len = max(len(seq) for seq in X_train)\n",
				"\n",
				"x_train = pad_sequences(X_train, maxlen=max_len, padding=\"post\")\n",
				"x_test = pad_sequences(X_test, maxlen=max_len, padding=\"post\")"
			]
		},
		{
			"cell_type": "code",
			"execution_count": 132,
			"metadata": {},
			"outputs": [],
			"source": [
				"# Convert to PyTorch tensors\n",
				"x_train = torch.tensor(x_train, dtype=torch.long)\n",
				"x_test = torch.tensor(x_test, dtype=torch.long)\n",
				"y_train = torch.tensor(y_train, dtype=torch.float32)\n",
				"y_test = torch.tensor(y_test.values, dtype=torch.float32)\n",
				"\n",
				"# DataLoader\n",
				"train_data = TensorDataset(x_train, y_train)\n",
				"test_data = TensorDataset(x_test, y_test)\n",
				"train_loader = DataLoader(train_data, batch_size=16, shuffle=True)\n",
				"test_loader = DataLoader(test_data, batch_size=16, shuffle=False)"
			]
		},
		{
			"cell_type": "code",
			"execution_count": 133,
			"metadata": {},
			"outputs": [
				{
					"name": "stdout",
					"output_type": "stream",
					"text": [
						"torch.Size([22802, 106]) torch.Size([5701, 106]) torch.Size([22802]) torch.Size([5701])\n"
					]
				}
			],
			"source": [
				"print(x_train.shape, x_test.shape, y_train.shape, y_test.shape)"
			]
		},
		{
			"cell_type": "code",
			"execution_count": 134,
			"metadata": {},
			"outputs": [],
			"source": [
				"class BiLSTMModel(nn.Module):\n",
				"    def __init__(self, vocab_size, embed_size, hidden_size, output_size, dropout):\n",
				"        super(BiLSTMModel, self).__init__()\n",
				"        self.embedding = nn.Embedding(vocab_size, embed_size)\n",
				"        self.bilstm = nn.LSTM(embed_size, hidden_size, bidirectional=True, batch_first=True, dropout=dropout)\n",
				"        self.dropout = nn.Dropout(dropout)\n",
				"        self.fc = nn.Linear(hidden_size * 2, output_size)\n",
				"        self.sigmoid = nn.Sigmoid()\n",
				"\n",
				"    def forward(self, x):\n",
				"        x = self.embedding(x)\n",
				"        x, _ = self.bilstm(x)\n",
				"        x = self.dropout(x[:, -1, :])\n",
				"        x = self.fc(x)\n",
				"        x = self.sigmoid(x)\n",
				"        return x"
			]
		},
		{
			"cell_type": "code",
			"execution_count": 135,
			"metadata": {},
			"outputs": [
				{
					"name": "stderr",
					"output_type": "stream",
					"text": [
						"c:\\Users\\user\\.virtualenvs\\nlp\\Lib\\site-packages\\torch\\nn\\modules\\rnn.py:123: UserWarning: dropout option adds dropout after all but last recurrent layer, so non-zero dropout expects num_layers greater than 1, but got dropout=0.5 and num_layers=1\n",
						"  warnings.warn(\n"
					]
				}
			],
			"source": [
				"vocab_size = len(tokenizer.word_index) + 1\n",
				"embed_size = 128\n",
				"hidden_size = 64\n",
				"output_size = 1\n",
				"dropout = 0.5\n",
				"\n",
				"model = BiLSTMModel(vocab_size, embed_size, hidden_size, output_size, dropout)\n",
				"criterion = nn.BCELoss()\n",
				"optimizer = optim.Adam(model.parameters(), lr=0.0045)"
			]
		},
		{
			"cell_type": "code",
			"execution_count": 61,
			"metadata": {},
			"outputs": [
				{
					"data": {
						"text/plain": [
							"True"
						]
					},
					"execution_count": 61,
					"metadata": {},
					"output_type": "execute_result"
				}
			],
			"source": [
				"torch.cuda.is_available()"
			]
		},
		{
			"cell_type": "code",
			"execution_count": 62,
			"metadata": {},
			"outputs": [
				{
					"name": "stdout",
					"output_type": "stream",
					"text": [
						"Epoch 1/2, Loss: 0.6067992448806763\n",
						"Epoch 2/2, Loss: 0.11076480895280838\n"
					]
				}
			],
			"source": [
				"# Training\n",
				"num_epochs = 2\n",
				"model.train()\n",
				"for epoch in range(num_epochs):\n",
				"    for inputs, labels in train_loader:\n",
				"        optimizer.zero_grad()\n",
				"        outputs = model(inputs)\n",
				"        loss = criterion(outputs.squeeze(), labels)\n",
				"        loss.backward()\n",
				"        optimizer.step()\n",
				"    print(f'Epoch {epoch+1}/{num_epochs}, Loss: {loss.item()}')"
			]
		},
		{
			"cell_type": "code",
			"execution_count": 63,
			"metadata": {},
			"outputs": [
				{
					"name": "stdout",
					"output_type": "stream",
					"text": [
						"Accuracy: 79.39%\n"
					]
				}
			],
			"source": [
				"# Evaluation\n",
				"model.eval()\n",
				"correct = 0\n",
				"total = 0\n",
				"with torch.no_grad():\n",
				"    for inputs, labels in test_loader:\n",
				"        outputs = model(inputs)\n",
				"        predicted = (outputs.squeeze() > 0.5).float()\n",
				"        total += labels.size(0)\n",
				"        correct += (predicted == labels).sum().item()\n",
				"\n",
				"accuracy = correct / total\n",
				"print(f'Accuracy: {accuracy * 100:.2f}%')"
			]
		},
		{
			"cell_type": "markdown",
			"metadata": {},
			"source": [
				"# Bart"
			]
		},
		{
			"cell_type": "markdown",
			"metadata": {},
			"source": [
				"# Prepare dataset"
			]
		},
		{
			"cell_type": "code",
			"execution_count": 64,
			"metadata": {},
			"outputs": [],
			"source": [
				"import datasets"
			]
		},
		{
			"cell_type": "code",
			"execution_count": 67,
			"metadata": {},
			"outputs": [
				{
					"name": "stderr",
					"output_type": "stream",
					"text": [
						"Generating train split: 29970 examples [00:00, 381117.71 examples/s]\n"
					]
				}
			],
			"source": [
				"dataset = datasets.load_dataset('csv', data_files='datasets/sarcastic_headline_pairs_cleaned_full.csv')"
			]
		},
		{
			"cell_type": "code",
			"execution_count": 57,
			"metadata": {},
			"outputs": [
				{
					"data": {
						"text/plain": [
							"DatasetDict({\n",
							"    train: Dataset({\n",
							"        features: ['non_sarcastic', 'sarcastic'],\n",
							"        num_rows: 29970\n",
							"    })\n",
							"})"
						]
					},
					"execution_count": 57,
					"metadata": {},
					"output_type": "execute_result"
				}
			],
			"source": [
				"dataset"
			]
		},
		{
			"cell_type": "code",
			"execution_count": 68,
			"metadata": {},
			"outputs": [
				{
					"name": "stdout",
					"output_type": "stream",
					"text": [
						"DatasetDict({\n",
						"    train: Dataset({\n",
						"        features: ['non_sarcastic', 'sarcastic'],\n",
						"        num_rows: 23976\n",
						"    })\n",
						"    test: Dataset({\n",
						"        features: ['non_sarcastic', 'sarcastic'],\n",
						"        num_rows: 5994\n",
						"    })\n",
						"})\n",
						"DatasetDict({\n",
						"    train: Dataset({\n",
						"        features: ['non_sarcastic', 'sarcastic'],\n",
						"        num_rows: 23976\n",
						"    })\n",
						"    test: Dataset({\n",
						"        features: ['non_sarcastic', 'sarcastic'],\n",
						"        num_rows: 5994\n",
						"    })\n",
						"})\n"
					]
				}
			],
			"source": [
				"# Split the dataset into train and test sets\n",
				"train_test_split = dataset['train'].train_test_split(test_size=0.2)\n",
				"train = train_test_split\n",
				"test = train_test_split\n",
				"\n",
				"# Display the dataset\n",
				"print(train)\n",
				"print(test)\n"
			]
		},
		{
			"cell_type": "markdown",
			"metadata": {},
			"source": [
				"# Train a tokenizer"
			]
		},
		{
			"cell_type": "code",
			"execution_count": 69,
			"metadata": {},
			"outputs": [],
			"source": [
				"from tokenizers import normalizers, pre_tokenizers, Tokenizer, models, trainers\n",
				"\n",
				"# Build a tokenizer\n",
				"bpe_tokenizer = Tokenizer(models.BPE())\n",
				"bpe_tokenizer.normalizer = normalizers.Lowercase()\n",
				"bpe_tokenizer.pre_tokenizer = pre_tokenizers.Whitespace()\n",
				"\n",
				"trainer = trainers.BpeTrainer(\n",
				"    vocab_size=50265,\n",
				"    special_tokens=[\"<s>\", \"<pad>\", \"</s>\", \"<unk>\", \"<mask>\"],\n",
				"    initial_alphabet=pre_tokenizers.ByteLevel.alphabet(),\n",
				")"
			]
		},
		{
			"cell_type": "markdown",
			"metadata": {},
			"source": [
				"# fine tuning bart"
			]
		},
		{
			"cell_type": "code",
			"execution_count": 71,
			"metadata": {},
			"outputs": [],
			"source": [
				"from transformers import AutoTokenizer\n",
				"\n",
				"en_tokenizer = AutoTokenizer.from_pretrained( \"facebook/bart-base\" )\n",
				"\n",
				"\n",
				"def tokenize_dataset(sample):\n",
				"    input = en_tokenizer(sample['non_sarcastic'], padding='max_length', max_length=240, truncation=True)\n",
				"    label = en_tokenizer(sample['sarcastic'], padding='max_length', max_length=240, truncation=True)\n",
				"\n",
				"    input[\"decoder_input_ids\"] = label[\"input_ids\"]\n",
				"    input[\"decoder_attention_mask\"] = label[\"attention_mask\"]\n",
				"    input[\"labels\"] = label[\"input_ids\"]\n",
				"\n",
				"    return input"
			]
		},
		{
			"cell_type": "code",
			"execution_count": 72,
			"metadata": {},
			"outputs": [
				{
					"name": "stderr",
					"output_type": "stream",
					"text": [
						"Map: 100%|██████████| 23976/23976 [00:03<00:00, 6538.08 examples/s]\n",
						"Map: 100%|██████████| 5994/5994 [00:00<00:00, 6904.25 examples/s]\n",
						"Map: 100%|██████████| 23976/23976 [00:03<00:00, 6626.62 examples/s]\n"
					]
				}
			],
			"source": [
				"train_tokenized = train.map(tokenize_dataset, batched=True)\n",
				"test_tokenized = test.map(tokenize_dataset, batched=True)\n"
			]
		},
		{
			"cell_type": "code",
			"execution_count": 73,
			"metadata": {},
			"outputs": [
				{
					"data": {
						"text/plain": [
							"DatasetDict({\n",
							"    train: Dataset({\n",
							"        features: ['non_sarcastic', 'sarcastic', 'input_ids', 'attention_mask', 'decoder_input_ids', 'decoder_attention_mask', 'labels'],\n",
							"        num_rows: 23976\n",
							"    })\n",
							"    test: Dataset({\n",
							"        features: ['non_sarcastic', 'sarcastic', 'input_ids', 'attention_mask', 'decoder_input_ids', 'decoder_attention_mask', 'labels'],\n",
							"        num_rows: 5994\n",
							"    })\n",
							"})"
						]
					},
					"execution_count": 73,
					"metadata": {},
					"output_type": "execute_result"
				}
			],
			"source": [
				"train_tokenized"
			]
		},
		{
			"cell_type": "code",
			"execution_count": null,
			"metadata": {},
			"outputs": [],
			"source": [
				"from transformers import BartForConditionalGeneration\n",
				"from transformers import Seq2SeqTrainingArguments, Seq2SeqTrainer\n",
				"\n",
				"model = BartForConditionalGeneration.from_pretrained(\"facebook/bart-base\")\n",
				"\n",
				"training_args = Seq2SeqTrainingArguments(\n",
				"    output_dir=\"./bart\",\n",
				"    evaluation_strategy=\"steps\",\n",
				"    per_device_train_batch_size=2,\n",
				"    per_device_eval_batch_size=2,\n",
				"    predict_with_generate=True,\n",
				"    logging_steps=2,  # set to 1000 for full training\n",
				"    save_steps=64,  # set to 500 for full training\n",
				"    eval_steps=64,  # set to 8000 for full training\n",
				"    warmup_steps=1,  # set to 2000 for full training\n",
				"    max_steps=128, # delete for full training\n",
				"    overwrite_output_dir=True,\n",
				"    save_total_limit=3,\n",
				"    fp16=False, # True if GPU\n",
				")\n",
				"\n",
				"trainer = Seq2SeqTrainer(\n",
				"    model=model,\n",
				"    args=training_args,\n",
				"    train_dataset=train_tokenized['train'],\n",
				"    eval_dataset=test_tokenized['test'],\n",
				")\n",
				"\n",
				"\n",
				"trainer.train()"
			]
		},
		{
			"cell_type": "code",
			"execution_count": 117,
			"metadata": {},
			"outputs": [],
			"source": [
				"trainer.save_model(\"./bart/sarcasm_model\")"
			]
		},
		{
			"cell_type": "code",
			"execution_count": 118,
			"metadata": {},
			"outputs": [],
			"source": [
				"model = BartForConditionalGeneration.from_pretrained(\"./bart/sarcasm_model\")"
			]
		},
		{
			"cell_type": "code",
			"execution_count": 138,
			"metadata": {},
			"outputs": [],
			"source": [
				"def generate_sarcastic(text):\n",
				"    input_ids = en_tokenizer(\n",
				"        text,\n",
				"        return_tensors=\"pt\",  \n",
				"        padding=\"max_length\",\n",
				"        max_length=120,\n",
				"        truncation=True\n",
				"    )[\"input_ids\"]\n",
				"\n",
				"    output_ids = model.generate(\n",
				"        input_ids=input_ids,\n",
				"        max_length=25,  \n",
				"        num_beams=3,  \n",
				"        early_stopping=True,  \n",
				"        no_repeat_ngram_size=1,\n",
				"    )\n",
				"\n",
				"    sarcastic_text = en_tokenizer.decode(output_ids[0], skip_special_tokens=True)\n",
				"\n",
				"    return sarcastic_text"
			]
		},
		{
			"cell_type": "code",
			"execution_count": 156,
			"metadata": {},
			"outputs": [
				{
					"name": "stdout",
					"output_type": "stream",
					"text": [
						"Non-sarcastic text: it was funny\n",
						"\n",
						"Sarcastic text: it was like, \"wow that is just so totally completely out of the right place at a time when we\n"
					]
				}
			],
			"source": [
				"text = \"it was funny\"\n",
				"sarcastic_text = generate_sarcastic(text)\n",
				"print(f\"Non-sarcastic text: {text}\\n\")\n",
				"print(f\"Sarcastic text: {sarcastic_text}\")"
			]
		}
	],
	"metadata": {
		"kernelspec": {
			"display_name": "nlp",
			"language": "python",
			"name": "python3"
		},
		"language_info": {
			"codemirror_mode": {
				"name": "ipython",
				"version": 3
			},
			"file_extension": ".py",
			"mimetype": "text/x-python",
			"name": "python",
			"nbconvert_exporter": "python",
			"pygments_lexer": "ipython3",
			"version": "3.12.4"
		}
	},
	"nbformat": 4,
	"nbformat_minor": 2
}
